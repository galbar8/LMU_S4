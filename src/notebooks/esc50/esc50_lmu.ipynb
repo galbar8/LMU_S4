{
 "cells": [
  {
   "cell_type": "code",
   "id": "initial_id",
   "metadata": {
    "collapsed": true,
    "ExecuteTime": {
     "end_time": "2025-10-22T13:27:22.860810Z",
     "start_time": "2025-10-22T13:27:22.153470Z"
    }
   },
   "source": [
    "from __future__ import annotations\n",
    "from typing import Optional, Tuple, Dict, Any\n",
    "\n",
    "from torch.utils.data import DataLoader\n",
    "\n",
    "from src.types.task_protocol import TaskProtocol\n",
    "from src.datasets.esc50.esc50_dataset2 import make_esc50_loaders\n",
    "\n",
    "class ESC50Task(TaskProtocol):\n",
    "    problem_type: str = \"multiclass\"\n",
    "\n",
    "    def make_loaders(\n",
    "        self,\n",
    "        data_root: str,\n",
    "        batch_size: int,\n",
    "        **kwargs: Any,\n",
    "    ) -> Tuple[DataLoader, DataLoader, Optional[DataLoader]]:\n",
    "\n",
    "        train_loader, val_loader, test_loader = make_esc50_loaders(\n",
    "            data_root=data_root,\n",
    "            batch_size=batch_size,\n",
    "            num_workers=kwargs.get(\"num_workers\", 4),\n",
    "            fold_val=kwargs[\"fold_val\"],\n",
    "            feature=kwargs[\"feature\"],\n",
    "            sample_rate=kwargs[\"sample_rate\"],\n",
    "            n_mels=kwargs[\"n_mels\"],\n",
    "            hop_length=kwargs[\"hop_length\"],\n",
    "            n_fft=kwargs[\"n_fft\"],\n",
    "            target_num_frames=kwargs[\"target_num_frames\"],\n",
    "            augment=kwargs.get(\"augment\", True),\n",
    "            download=kwargs.get(\"download\", False),\n",
    "        )\n",
    "        return train_loader, val_loader, test_loader\n",
    "\n",
    "    def infer_input_dim(self, args: Dict[str, Any]) -> int:\n",
    "        return args[\"n_mels\"] if args.get(\"feature\", \"melspec\") == \"melspec\" else 1\n",
    "\n",
    "    def infer_num_classes(self, args: Dict[str, Any]) -> int:\n",
    "        return 50\n",
    "\n",
    "    def infer_theta(self, args: Dict[str, Any]) -> int:\n",
    "        # sequence length for LMU/S4 block config\n",
    "        return int(args[\"target_num_frames\"])\n"
   ],
   "outputs": [],
   "execution_count": 1
  },
  {
   "metadata": {
    "ExecuteTime": {
     "end_time": "2025-10-22T13:27:26.458498Z",
     "start_time": "2025-10-22T13:27:26.044701Z"
    }
   },
   "cell_type": "code",
   "source": [
    "from pathlib import Path\n",
    "\n",
    "import torch\n",
    "from src.train_utils.trainer import Trainer\n",
    "from src.models.v2.build_model import BlockConfig, build_model\n",
    "\n",
    "# ----- Resolve data roots like your previous script -----\n",
    "current_dir = Path.cwd()\n",
    "project_root = current_dir.parent.parent.parent\n",
    "data_root = str(project_root / \"src\" / \"datasets\" / \"esc50\" / \"data\")\n",
    "\n",
    "def create_block_cfg_ctor(dropout: float, mlp_ratio: float, droppath_final: float,\n",
    "                          layerscale_init: float, residual_gain: float, pool: str):\n",
    "    \"\"\"Create a block config constructor with the given hyperparameters.\"\"\"\n",
    "    def block_cfg_ctor(theta: int) -> BlockConfig:\n",
    "        return BlockConfig(\n",
    "            kind=\"lmu\",\n",
    "            memory_size=256,\n",
    "            theta=theta,\n",
    "            dropout=dropout,\n",
    "            mlp_ratio=mlp_ratio,\n",
    "            droppath_final=droppath_final,\n",
    "            layerscale_init=layerscale_init,\n",
    "            residual_gain=residual_gain,\n",
    "            pool=pool,\n",
    "        )\n",
    "    return block_cfg_ctor\n",
    "\n",
    "def main() -> None:\n",
    "    task = ESC50Task()\n",
    "\n",
    "    # Share the same knobs you already used\n",
    "    args: Dict[str, Any] = {\n",
    "        # data\n",
    "        \"data_root\": str(data_root),\n",
    "        \"batch\": 32,\n",
    "        \"data_loader_kwargs\": {\n",
    "            \"num_workers\": 4,\n",
    "            \"fold_val\": 1,\n",
    "            \"feature\": \"melspec\",\n",
    "            \"sample_rate\": 16000,\n",
    "            \"n_mels\": 128,\n",
    "            \"hop_length\": 160,\n",
    "            \"n_fft\": 512,\n",
    "            \"target_num_frames\": 500,\n",
    "            \"augment\": True,\n",
    "            \"download\": False,\n",
    "        },\n",
    "\n",
    "        # training\n",
    "        \"epochs\": 100,\n",
    "        \"lr\": 3e-4,\n",
    "        \"wd\": 1e-3,\n",
    "        \"amp\": True,\n",
    "        \"save_dir\": \"./runs/esc50_task\",\n",
    "        \"label_smoothing\": 0.1,\n",
    "        \"warmup_epochs\": 5,\n",
    "        \"patience\": 30,\n",
    "        \"min_delta\": 0.0,\n",
    "\n",
    "        # model scaffold\n",
    "        \"d_model\": 256,\n",
    "        \"depth\": 6,\n",
    "        \"dropout\": 0.2,\n",
    "        \"mlp_ratio\": 2.0,\n",
    "        \"droppath_final\": 0.1,\n",
    "        \"layerscale_init\": 1e-2,\n",
    "        \"residual_gain\": 1.0,\n",
    "        \"pool\": \"mean\",\n",
    "    }\n",
    "\n",
    "    args[\"block_cfg_ctor\"] = create_block_cfg_ctor(\n",
    "        dropout=args[\"dropout\"],\n",
    "        mlp_ratio=args[\"mlp_ratio\"],\n",
    "        droppath_final=args[\"droppath_final\"],\n",
    "        layerscale_init=args[\"layerscale_init\"],\n",
    "        residual_gain=args[\"residual_gain\"],\n",
    "        pool=args[\"pool\"],\n",
    "    )\n",
    "\n",
    "\n",
    "    # Optional: set device explicitly or let Trainer pick it\n",
    "    if torch.cuda.is_available():\n",
    "        args[\"device\"] = torch.device(\"cuda\")\n",
    "    elif torch.backends.mps.is_available():\n",
    "        args[\"device\"] = torch.device(\"mps\")\n",
    "    else:\n",
    "        args[\"device\"] = torch.device(\"cpu\")\n",
    "\n",
    "    trainer = Trainer(args=args, task=task, model_builder=build_model)\n",
    "    best_metric, ckpt_path = trainer.fit()\n",
    "    print(f\"Done. Best {trainer.early_key}={best_metric:.4f} @ {ckpt_path}\")\n",
    "    return trainer"
   ],
   "id": "f4ed628d91875139",
   "outputs": [],
   "execution_count": 2
  },
  {
   "metadata": {
    "ExecuteTime": {
     "end_time": "2025-10-22T13:42:58.799958Z",
     "start_time": "2025-10-22T13:27:30.500636Z"
    }
   },
   "cell_type": "code",
   "source": "trainer = main()",
   "id": "5d5ce07b63466737",
   "outputs": [
    {
     "name": "stdout",
     "output_type": "stream",
     "text": [
      "ESC-50 check under /Users/glbrlb/PycharmProjects/Msc/LMU_S4/src/datasets/esc50/data. Checking /Users/glbrlb/PycharmProjects/Msc/LMU_S4/src/datasets/esc50/data/ESC-50-master ...\n"
     ]
    },
    {
     "name": "stderr",
     "output_type": "stream",
     "text": [
      "/Users/glbrlb/PycharmProjects/Msc/LMU_S4/.venv/lib/python3.9/site-packages/torchaudio/_backend/utils.py:213: UserWarning: In 2.9, this function's implementation will be changed to use torchaudio.load_with_torchcodec` under the hood. Some parameters like ``normalize``, ``format``, ``buffer_size``, and ``backend`` will be ignored. We recommend that you port your code to rely directly on TorchCodec's decoder instead: https://docs.pytorch.org/torchcodec/stable/generated/torchcodec.decoders.AudioDecoder.html#torchcodec.decoders.AudioDecoder.\n",
      "  warnings.warn(\n"
     ]
    },
    {
     "name": "stdout",
     "output_type": "stream",
     "text": [
      "ESC-50 check under /Users/glbrlb/PycharmProjects/Msc/LMU_S4/src/datasets/esc50/data. Checking /Users/glbrlb/PycharmProjects/Msc/LMU_S4/src/datasets/esc50/data/ESC-50-master ...\n"
     ]
    },
    {
     "name": "stderr",
     "output_type": "stream",
     "text": [
      "/Users/glbrlb/PycharmProjects/Msc/LMU_S4/.venv/lib/python3.9/site-packages/scipy/linalg/_matfuncs.py:326: RuntimeWarning: divide by zero encountered in matmul\n",
      "  m, s = pick_pade_structure(Am)\n",
      "/Users/glbrlb/PycharmProjects/Msc/LMU_S4/.venv/lib/python3.9/site-packages/scipy/linalg/_matfuncs.py:326: RuntimeWarning: overflow encountered in matmul\n",
      "  m, s = pick_pade_structure(Am)\n",
      "/Users/glbrlb/PycharmProjects/Msc/LMU_S4/.venv/lib/python3.9/site-packages/scipy/linalg/_matfuncs.py:326: RuntimeWarning: invalid value encountered in matmul\n",
      "  m, s = pick_pade_structure(Am)\n",
      "/Users/glbrlb/PycharmProjects/Msc/LMU_S4/.venv/lib/python3.9/site-packages/scipy/linalg/_matfuncs.py:358: RuntimeWarning: divide by zero encountered in matmul\n",
      "  eAw = eAw @ eAw\n",
      "/Users/glbrlb/PycharmProjects/Msc/LMU_S4/.venv/lib/python3.9/site-packages/scipy/linalg/_matfuncs.py:358: RuntimeWarning: overflow encountered in matmul\n",
      "  eAw = eAw @ eAw\n",
      "/Users/glbrlb/PycharmProjects/Msc/LMU_S4/.venv/lib/python3.9/site-packages/scipy/linalg/_matfuncs.py:358: RuntimeWarning: invalid value encountered in matmul\n",
      "  eAw = eAw @ eAw\n",
      "train:   0%|          | 0/50 [00:00<?, ?it/s]/Users/glbrlb/PycharmProjects/Msc/LMU_S4/.venv/lib/python3.9/site-packages/torchaudio/_backend/utils.py:213: UserWarning: In 2.9, this function's implementation will be changed to use torchaudio.load_with_torchcodec` under the hood. Some parameters like ``normalize``, ``format``, ``buffer_size``, and ``backend`` will be ignored. We recommend that you port your code to rely directly on TorchCodec's decoder instead: https://docs.pytorch.org/torchcodec/stable/generated/torchcodec.decoders.AudioDecoder.html#torchcodec.decoders.AudioDecoder.\n",
      "  warnings.warn(\n",
      "/Users/glbrlb/PycharmProjects/Msc/LMU_S4/.venv/lib/python3.9/site-packages/torchaudio/_backend/utils.py:213: UserWarning: In 2.9, this function's implementation will be changed to use torchaudio.load_with_torchcodec` under the hood. Some parameters like ``normalize``, ``format``, ``buffer_size``, and ``backend`` will be ignored. We recommend that you port your code to rely directly on TorchCodec's decoder instead: https://docs.pytorch.org/torchcodec/stable/generated/torchcodec.decoders.AudioDecoder.html#torchcodec.decoders.AudioDecoder.\n",
      "  warnings.warn(\n",
      "/Users/glbrlb/PycharmProjects/Msc/LMU_S4/.venv/lib/python3.9/site-packages/torchaudio/_backend/utils.py:213: UserWarning: In 2.9, this function's implementation will be changed to use torchaudio.load_with_torchcodec` under the hood. Some parameters like ``normalize``, ``format``, ``buffer_size``, and ``backend`` will be ignored. We recommend that you port your code to rely directly on TorchCodec's decoder instead: https://docs.pytorch.org/torchcodec/stable/generated/torchcodec.decoders.AudioDecoder.html#torchcodec.decoders.AudioDecoder.\n",
      "  warnings.warn(\n",
      "/Users/glbrlb/PycharmProjects/Msc/LMU_S4/.venv/lib/python3.9/site-packages/torchaudio/_backend/utils.py:213: UserWarning: In 2.9, this function's implementation will be changed to use torchaudio.load_with_torchcodec` under the hood. Some parameters like ``normalize``, ``format``, ``buffer_size``, and ``backend`` will be ignored. We recommend that you port your code to rely directly on TorchCodec's decoder instead: https://docs.pytorch.org/torchcodec/stable/generated/torchcodec.decoders.AudioDecoder.html#torchcodec.decoders.AudioDecoder.\n",
      "  warnings.warn(\n",
      "val:   0%|          | 0/13 [00:00<?, ?it/s]           /Users/glbrlb/PycharmProjects/Msc/LMU_S4/.venv/lib/python3.9/site-packages/torchaudio/_backend/utils.py:213: UserWarning: In 2.9, this function's implementation will be changed to use torchaudio.load_with_torchcodec` under the hood. Some parameters like ``normalize``, ``format``, ``buffer_size``, and ``backend`` will be ignored. We recommend that you port your code to rely directly on TorchCodec's decoder instead: https://docs.pytorch.org/torchcodec/stable/generated/torchcodec.decoders.AudioDecoder.html#torchcodec.decoders.AudioDecoder.\n",
      "  warnings.warn(\n",
      "/Users/glbrlb/PycharmProjects/Msc/LMU_S4/.venv/lib/python3.9/site-packages/torchaudio/_backend/utils.py:213: UserWarning: In 2.9, this function's implementation will be changed to use torchaudio.load_with_torchcodec` under the hood. Some parameters like ``normalize``, ``format``, ``buffer_size``, and ``backend`` will be ignored. We recommend that you port your code to rely directly on TorchCodec's decoder instead: https://docs.pytorch.org/torchcodec/stable/generated/torchcodec.decoders.AudioDecoder.html#torchcodec.decoders.AudioDecoder.\n",
      "  warnings.warn(\n",
      "/Users/glbrlb/PycharmProjects/Msc/LMU_S4/.venv/lib/python3.9/site-packages/torchaudio/_backend/utils.py:213: UserWarning: In 2.9, this function's implementation will be changed to use torchaudio.load_with_torchcodec` under the hood. Some parameters like ``normalize``, ``format``, ``buffer_size``, and ``backend`` will be ignored. We recommend that you port your code to rely directly on TorchCodec's decoder instead: https://docs.pytorch.org/torchcodec/stable/generated/torchcodec.decoders.AudioDecoder.html#torchcodec.decoders.AudioDecoder.\n",
      "  warnings.warn(\n",
      "/Users/glbrlb/PycharmProjects/Msc/LMU_S4/.venv/lib/python3.9/site-packages/torchaudio/_backend/utils.py:213: UserWarning: In 2.9, this function's implementation will be changed to use torchaudio.load_with_torchcodec` under the hood. Some parameters like ``normalize``, ``format``, ``buffer_size``, and ``backend`` will be ignored. We recommend that you port your code to rely directly on TorchCodec's decoder instead: https://docs.pytorch.org/torchcodec/stable/generated/torchcodec.decoders.AudioDecoder.html#torchcodec.decoders.AudioDecoder.\n",
      "  warnings.warn(\n",
      "                                                    \r"
     ]
    },
    {
     "name": "stdout",
     "output_type": "stream",
     "text": [
      "new best acc 0.0125\n",
      "Epoch 000/100 | train 3.9986/0.0125 | val 3.9570/0.0125 | t 25.6s/3.0s | lr 3.00e-07\n"
     ]
    },
    {
     "name": "stderr",
     "output_type": "stream",
     "text": [
      "                                                      \r"
     ]
    },
    {
     "name": "stdout",
     "output_type": "stream",
     "text": [
      "new best acc 0.0325\n",
      "Epoch 001/100 | train 3.9267/0.0250 | val 3.7657/0.0325 | t 22.6s/1.9s | lr 6.02e-05\n"
     ]
    },
    {
     "name": "stderr",
     "output_type": "stream",
     "text": [
      "                                                      \r"
     ]
    },
    {
     "name": "stdout",
     "output_type": "stream",
     "text": [
      "new best acc 0.0600\n",
      "Epoch 002/100 | train 3.8176/0.0369 | val 3.6005/0.0600 | t 22.5s/1.9s | lr 1.20e-04\n"
     ]
    },
    {
     "name": "stderr",
     "output_type": "stream",
     "text": [
      "                                                      \r"
     ]
    },
    {
     "name": "stdout",
     "output_type": "stream",
     "text": [
      "new best acc 0.0800\n",
      "Epoch 003/100 | train 3.7199/0.0494 | val 3.4992/0.0800 | t 22.4s/1.9s | lr 1.80e-04\n"
     ]
    },
    {
     "name": "stderr",
     "output_type": "stream",
     "text": [
      "/Users/glbrlb/PycharmProjects/Msc/LMU_S4/.venv/lib/python3.9/site-packages/torch/optim/lr_scheduler.py:209: UserWarning: The epoch parameter in `scheduler.step()` was not necessary and is being deprecated where possible. Please use `scheduler.step()` to step the scheduler. During the deprecation, if epoch is different from None, the closed form is used instead of the new chainable form, where available. Please open an issue if you are unable to replicate your use case: https://github.com/pytorch/pytorch/issues/new/choose.\n",
      "  warnings.warn(EPOCH_DEPRECATION_WARNING, UserWarning)\n"
     ]
    },
    {
     "name": "stdout",
     "output_type": "stream",
     "text": [
      "Epoch 004/100 | train 3.5661/0.0725 | val 3.4493/0.0800 | t 22.5s/1.9s | lr 2.40e-04\n"
     ]
    },
    {
     "name": "stderr",
     "output_type": "stream",
     "text": [
      "                                                      \r"
     ]
    },
    {
     "name": "stdout",
     "output_type": "stream",
     "text": [
      "new best acc 0.1450\n",
      "Epoch 005/100 | train 3.4347/0.1087 | val 3.4092/0.1450 | t 23.1s/2.1s | lr 3.00e-04\n"
     ]
    },
    {
     "name": "stderr",
     "output_type": "stream",
     "text": [
      "                                                      \r"
     ]
    },
    {
     "name": "stdout",
     "output_type": "stream",
     "text": [
      "new best acc 0.1600\n",
      "Epoch 006/100 | train 3.3186/0.1181 | val 3.3765/0.1600 | t 24.7s/2.2s | lr 3.00e-04\n"
     ]
    },
    {
     "name": "stderr",
     "output_type": "stream",
     "text": [
      "                                                      \r"
     ]
    },
    {
     "name": "stdout",
     "output_type": "stream",
     "text": [
      "Epoch 007/100 | train 3.2791/0.1437 | val 3.4302/0.1225 | t 26.5s/2.4s | lr 3.00e-04\n"
     ]
    },
    {
     "name": "stderr",
     "output_type": "stream",
     "text": [
      "                                                      \r"
     ]
    },
    {
     "name": "stdout",
     "output_type": "stream",
     "text": [
      "new best acc 0.1775\n",
      "Epoch 008/100 | train 3.2286/0.1619 | val 3.3633/0.1775 | t 29.2s/2.5s | lr 2.99e-04\n"
     ]
    },
    {
     "name": "stderr",
     "output_type": "stream",
     "text": [
      "                                                      \r"
     ]
    },
    {
     "name": "stdout",
     "output_type": "stream",
     "text": [
      "Epoch 009/100 | train 3.2008/0.1581 | val 3.3226/0.1650 | t 28.3s/2.5s | lr 2.99e-04\n"
     ]
    },
    {
     "name": "stderr",
     "output_type": "stream",
     "text": [
      "                                                      \r"
     ]
    },
    {
     "name": "stdout",
     "output_type": "stream",
     "text": [
      "new best acc 0.2000\n",
      "Epoch 010/100 | train 3.1444/0.1844 | val 3.2965/0.2000 | t 28.1s/2.4s | lr 2.98e-04\n"
     ]
    },
    {
     "name": "stderr",
     "output_type": "stream",
     "text": [
      "                                                      \r"
     ]
    },
    {
     "name": "stdout",
     "output_type": "stream",
     "text": [
      "Epoch 011/100 | train 3.1327/0.1925 | val 3.2933/0.2000 | t 28.1s/2.4s | lr 2.97e-04\n"
     ]
    },
    {
     "name": "stderr",
     "output_type": "stream",
     "text": [
      "                                                      \r"
     ]
    },
    {
     "name": "stdout",
     "output_type": "stream",
     "text": [
      "Epoch 012/100 | train 3.0875/0.2119 | val 3.2523/0.1900 | t 28.0s/2.4s | lr 2.96e-04\n"
     ]
    },
    {
     "name": "stderr",
     "output_type": "stream",
     "text": [
      "                                                      \r"
     ]
    },
    {
     "name": "stdout",
     "output_type": "stream",
     "text": [
      "Epoch 013/100 | train 3.0681/0.2131 | val 3.2072/0.2000 | t 27.9s/2.5s | lr 2.95e-04\n"
     ]
    },
    {
     "name": "stderr",
     "output_type": "stream",
     "text": [
      "                                                      \r"
     ]
    },
    {
     "name": "stdout",
     "output_type": "stream",
     "text": [
      "new best acc 0.2125\n",
      "Epoch 014/100 | train 3.0273/0.2306 | val 3.2469/0.2125 | t 28.4s/2.5s | lr 2.93e-04\n"
     ]
    },
    {
     "name": "stderr",
     "output_type": "stream",
     "text": [
      "                                                      \r"
     ]
    },
    {
     "name": "stdout",
     "output_type": "stream",
     "text": [
      "Epoch 015/100 | train 2.9912/0.2338 | val 3.2301/0.2050 | t 28.2s/2.5s | lr 2.92e-04\n"
     ]
    },
    {
     "name": "stderr",
     "output_type": "stream",
     "text": [
      "                                                      \r"
     ]
    },
    {
     "name": "stdout",
     "output_type": "stream",
     "text": [
      "Epoch 016/100 | train 2.9771/0.2512 | val 3.1971/0.1750 | t 28.4s/2.4s | lr 2.90e-04\n"
     ]
    },
    {
     "name": "stderr",
     "output_type": "stream",
     "text": [
      "                                                      \r"
     ]
    },
    {
     "name": "stdout",
     "output_type": "stream",
     "text": [
      "Epoch 017/100 | train 2.9522/0.2469 | val 3.1950/0.2050 | t 28.5s/2.5s | lr 2.88e-04\n"
     ]
    },
    {
     "name": "stderr",
     "output_type": "stream",
     "text": [
      "                                                      \r"
     ]
    },
    {
     "name": "stdout",
     "output_type": "stream",
     "text": [
      "new best acc 0.2375\n",
      "Epoch 018/100 | train 2.9006/0.2669 | val 3.1470/0.2375 | t 28.8s/2.6s | lr 2.86e-04\n"
     ]
    },
    {
     "name": "stderr",
     "output_type": "stream",
     "text": [
      "                                                      \r"
     ]
    },
    {
     "name": "stdout",
     "output_type": "stream",
     "text": [
      "Epoch 019/100 | train 2.9240/0.2581 | val 3.1243/0.2350 | t 28.7s/2.5s | lr 2.84e-04\n"
     ]
    },
    {
     "name": "stderr",
     "output_type": "stream",
     "text": [
      "                                                      \r"
     ]
    },
    {
     "name": "stdout",
     "output_type": "stream",
     "text": [
      "Epoch 020/100 | train 2.8571/0.2812 | val 3.0818/0.2375 | t 28.8s/2.5s | lr 2.82e-04\n"
     ]
    },
    {
     "name": "stderr",
     "output_type": "stream",
     "text": [
      "                                                      \r"
     ]
    },
    {
     "name": "stdout",
     "output_type": "stream",
     "text": [
      "Epoch 021/100 | train 2.8167/0.2994 | val 3.0287/0.2275 | t 28.9s/2.5s | lr 2.79e-04\n"
     ]
    },
    {
     "name": "stderr",
     "output_type": "stream",
     "text": [
      "                                                      \r"
     ]
    },
    {
     "name": "stdout",
     "output_type": "stream",
     "text": [
      "new best acc 0.2500\n",
      "Epoch 022/100 | train 2.7904/0.3094 | val 3.0413/0.2500 | t 29.2s/2.6s | lr 2.77e-04\n"
     ]
    },
    {
     "name": "stderr",
     "output_type": "stream",
     "text": [
      "                                                      \r"
     ]
    },
    {
     "name": "stdout",
     "output_type": "stream",
     "text": [
      "new best acc 0.2625\n",
      "Epoch 023/100 | train 2.7595/0.3137 | val 3.0235/0.2625 | t 28.9s/2.5s | lr 2.74e-04\n"
     ]
    },
    {
     "name": "stderr",
     "output_type": "stream",
     "text": [
      "                                                      \r"
     ]
    },
    {
     "name": "stdout",
     "output_type": "stream",
     "text": [
      "new best acc 0.2800\n",
      "Epoch 024/100 | train 2.7444/0.3237 | val 3.0036/0.2800 | t 28.7s/2.5s | lr 2.71e-04\n"
     ]
    },
    {
     "name": "stderr",
     "output_type": "stream",
     "text": [
      "                                                      \r"
     ]
    },
    {
     "name": "stdout",
     "output_type": "stream",
     "text": [
      "new best acc 0.2825\n",
      "Epoch 025/100 | train 2.6875/0.3275 | val 2.9684/0.2825 | t 28.8s/2.5s | lr 2.68e-04\n"
     ]
    },
    {
     "name": "stderr",
     "output_type": "stream",
     "text": [
      "                                                      \r"
     ]
    },
    {
     "name": "stdout",
     "output_type": "stream",
     "text": [
      "Epoch 026/100 | train 2.6761/0.3513 | val 2.9090/0.2825 | t 29.1s/2.5s | lr 2.65e-04\n"
     ]
    },
    {
     "name": "stderr",
     "output_type": "stream",
     "text": [
      "                                                      \r"
     ]
    },
    {
     "name": "stdout",
     "output_type": "stream",
     "text": [
      "Epoch 027/100 | train 2.6306/0.3588 | val 2.9229/0.2750 | t 28.8s/2.5s | lr 2.62e-04\n"
     ]
    },
    {
     "name": "stderr",
     "output_type": "stream",
     "text": [
      "                                                      \r"
     ]
    },
    {
     "name": "stdout",
     "output_type": "stream",
     "text": [
      "new best acc 0.3075\n",
      "Epoch 028/100 | train 2.6047/0.3831 | val 2.9231/0.3075 | t 28.9s/2.5s | lr 2.59e-04\n"
     ]
    },
    {
     "name": "stderr",
     "output_type": "stream",
     "text": [
      "                                                      \r"
     ]
    },
    {
     "name": "stdout",
     "output_type": "stream",
     "text": [
      "Epoch 029/100 | train 2.5683/0.3906 | val 2.8816/0.2975 | t 29.0s/2.6s | lr 2.55e-04\n"
     ]
    },
    {
     "name": "stderr",
     "output_type": "stream",
     "text": [
      "                                                      "
     ]
    },
    {
     "name": "stdout",
     "output_type": "stream",
     "text": [
      "new best acc 0.3100\n",
      "⏹ Early stopping (patience=30, best=0.3100).\n",
      "Done. Best acc=0.3100 @ ./runs/esc50_task/best.pt\n"
     ]
    },
    {
     "name": "stderr",
     "output_type": "stream",
     "text": [
      "\r"
     ]
    }
   ],
   "execution_count": 3
  },
  {
   "metadata": {
    "ExecuteTime": {
     "end_time": "2025-10-22T13:43:06.408405Z",
     "start_time": "2025-10-22T13:43:06.202745Z"
    }
   },
   "cell_type": "code",
   "source": [
    "# Plot training history\n",
    "import matplotlib.pyplot as plt\n",
    "\n",
    "history = trainer.history\n",
    "\n",
    "plt.figure(figsize=(12, 5))\n",
    "\n",
    "plt.subplot(1, 2, 1)\n",
    "plt.plot(history[\"train_acc\"], label=\"train_acc\")\n",
    "plt.plot(history[\"val_acc\"], label=\"val_acc\")\n",
    "plt.xlabel(\"epoch\")\n",
    "plt.ylabel(\"accuracy\")\n",
    "plt.legend()\n",
    "plt.title(\"Accuracy\")\n",
    "plt.grid(True)\n",
    "\n",
    "plt.subplot(1, 2, 2)\n",
    "plt.plot(history[\"train_loss\"], label=\"train_loss\")\n",
    "plt.plot(history[\"val_loss\"], label=\"val_loss\")\n",
    "plt.xlabel(\"epoch\")\n",
    "plt.ylabel(\"loss\")\n",
    "plt.legend()\n",
    "plt.title(\"Loss\")\n",
    "plt.grid(True)\n",
    "\n",
    "plt.tight_layout()\n",
    "plt.show()"
   ],
   "id": "d4a7421cf0ee5c45",
   "outputs": [
    {
     "data": {
      "text/plain": [
       "<Figure size 1200x500 with 2 Axes>"
      ],
      "image/png": "[encoded data removed]"
     },
     "metadata": {},
     "output_type": "display_data",
     "jetTransient": {
      "display_id": null
     }
    }
   ],
   "execution_count": 4
  },
  {
   "metadata": {
    "ExecuteTime": {
     "end_time": "2025-10-22T13:43:49.104252Z",
     "start_time": "2025-10-22T13:43:42.098586Z"
    }
   },
   "cell_type": "code",
   "source": [
    "# Evaluation and Visualization\n",
    "import os\n",
    "import torch\n",
    "import matplotlib.pyplot as plt\n",
    "from src.eval.infer import predict_loader\n",
    "from src.eval.metrics import confusion_matrix\n",
    "from src.eval.report import print_basic_report, plot_confusion, print_per_class\n",
    "from src.utils.common import amp_autocast\n",
    "\n",
    "# Get the trainer from the last run (we need to store it)\n",
    "# For now, let's create a simple evaluation function\n",
    "def evaluate_best_model():\n",
    "    \"\"\"Load best checkpoint and evaluate on validation set.\"\"\"\n",
    "    task = ESC50Task()\n",
    "\n",
    "    # Recreate data loaders\n",
    "    _, val_loader, _ = task.make_loaders(\n",
    "        data_root=data_root,\n",
    "        batch_size=32,\n",
    "        num_workers=4,\n",
    "        fold_val=1,\n",
    "        feature=\"melspec\",\n",
    "        sample_rate=16000,\n",
    "        n_mels=128,\n",
    "        hop_length=160,\n",
    "        n_fft=512,\n",
    "        target_num_frames=500,\n",
    "        augment=False,  # No augmentation for evaluation\n",
    "        download=False,\n",
    "    )\n",
    "\n",
    "    # Load best checkpoint\n",
    "    best_ckpt_path = \"./runs/esc50_task/best.pt\"\n",
    "    if not os.path.exists(best_ckpt_path):\n",
    "        print(f\"Checkpoint not found at {best_ckpt_path}\")\n",
    "        return\n",
    "\n",
    "    best_ckpt = torch.load(best_ckpt_path, map_location=\"cpu\")\n",
    "\n",
    "    # Recreate model\n",
    "    from src.models.v2.build_model import BlockConfig, build_model\n",
    "\n",
    "    d_in = 128  # n_mels\n",
    "    n_classes = 50\n",
    "    theta = 500  # target_num_frames\n",
    "\n",
    "    block_cfg = BlockConfig(\n",
    "        kind=\"lmu\",\n",
    "        memory_size=256,\n",
    "        theta=theta,\n",
    "        dropout=0.2,\n",
    "        mlp_ratio=2.0,\n",
    "        droppath_final=0.1,\n",
    "        layerscale_init=1e-2,\n",
    "        residual_gain=1.0,\n",
    "        pool=\"mean\",\n",
    "    )\n",
    "\n",
    "    model = build_model(\n",
    "        d_in=d_in,\n",
    "        n_classes=n_classes,\n",
    "        d_model=256,\n",
    "        depth=6,\n",
    "        block_cfg=block_cfg,\n",
    "    )\n",
    "\n",
    "    # Load weights\n",
    "    model.load_state_dict(best_ckpt[\"model\"])\n",
    "\n",
    "    # Set device\n",
    "    if torch.cuda.is_available():\n",
    "        device = torch.device(\"cuda\")\n",
    "    elif torch.backends.mps.is_available():\n",
    "        device = torch.device(\"mps\")\n",
    "    else:\n",
    "        device = torch.device(\"cpu\")\n",
    "\n",
    "    model.to(device)\n",
    "    amp = device.type in {\"cuda\", \"mps\"}\n",
    "\n",
    "    print(f\"Loaded checkpoint from epoch {best_ckpt['epoch']}\")\n",
    "    print(f\"Val metrics: {best_ckpt['val']}\")\n",
    "\n",
    "    # Get predictions\n",
    "    logits, labels = predict_loader(model, val_loader, device, amp_autocast, amp)\n",
    "\n",
    "    # Print basic report\n",
    "    print(\"\\n\" + \"=\"*50)\n",
    "    print_basic_report(logits, labels)\n",
    "\n",
    "    # Confusion matrix\n",
    "    cm = confusion_matrix(logits, labels, num_classes=50)\n",
    "    plot_confusion(cm, class_names=None, normalize=True, figsize=(9, 9))\n",
    "    plt.show()\n",
    "\n",
    "    # Per-class accuracies\n",
    "    print(\"\\n\" + \"=\"*50)\n",
    "    print_per_class(cm, class_names=None, top_k=10)\n",
    "\n",
    "evaluate_best_model()"
   ],
   "id": "d08cea2a54b4c8c4",
   "outputs": [
    {
     "name": "stdout",
     "output_type": "stream",
     "text": [
      "ESC-50 check under /Users/glbrlb/PycharmProjects/Msc/LMU_S4/src/datasets/esc50/data. Checking /Users/glbrlb/PycharmProjects/Msc/LMU_S4/src/datasets/esc50/data/ESC-50-master ...\n"
     ]
    },
    {
     "name": "stderr",
     "output_type": "stream",
     "text": [
      "/Users/glbrlb/PycharmProjects/Msc/LMU_S4/.venv/lib/python3.9/site-packages/torchaudio/_backend/utils.py:213: UserWarning: In 2.9, this function's implementation will be changed to use torchaudio.load_with_torchcodec` under the hood. Some parameters like ``normalize``, ``format``, ``buffer_size``, and ``backend`` will be ignored. We recommend that you port your code to rely directly on TorchCodec's decoder instead: https://docs.pytorch.org/torchcodec/stable/generated/torchcodec.decoders.AudioDecoder.html#torchcodec.decoders.AudioDecoder.\n",
      "  warnings.warn(\n"
     ]
    },
    {
     "name": "stdout",
     "output_type": "stream",
     "text": [
      "ESC-50 check under /Users/glbrlb/PycharmProjects/Msc/LMU_S4/src/datasets/esc50/data. Checking /Users/glbrlb/PycharmProjects/Msc/LMU_S4/src/datasets/esc50/data/ESC-50-master ...\n"
     ]
    },
    {
     "name": "stderr",
     "output_type": "stream",
     "text": [
      "/Users/glbrlb/PycharmProjects/Msc/LMU_S4/.venv/lib/python3.9/site-packages/scipy/linalg/_matfuncs.py:326: RuntimeWarning: divide by zero encountered in matmul\n",
      "  m, s = pick_pade_structure(Am)\n",
      "/Users/glbrlb/PycharmProjects/Msc/LMU_S4/.venv/lib/python3.9/site-packages/scipy/linalg/_matfuncs.py:326: RuntimeWarning: overflow encountered in matmul\n",
      "  m, s = pick_pade_structure(Am)\n",
      "/Users/glbrlb/PycharmProjects/Msc/LMU_S4/.venv/lib/python3.9/site-packages/scipy/linalg/_matfuncs.py:326: RuntimeWarning: invalid value encountered in matmul\n",
      "  m, s = pick_pade_structure(Am)\n",
      "/Users/glbrlb/PycharmProjects/Msc/LMU_S4/.venv/lib/python3.9/site-packages/scipy/linalg/_matfuncs.py:358: RuntimeWarning: divide by zero encountered in matmul\n",
      "  eAw = eAw @ eAw\n",
      "/Users/glbrlb/PycharmProjects/Msc/LMU_S4/.venv/lib/python3.9/site-packages/scipy/linalg/_matfuncs.py:358: RuntimeWarning: overflow encountered in matmul\n",
      "  eAw = eAw @ eAw\n",
      "/Users/glbrlb/PycharmProjects/Msc/LMU_S4/.venv/lib/python3.9/site-packages/scipy/linalg/_matfuncs.py:358: RuntimeWarning: invalid value encountered in matmul\n",
      "  eAw = eAw @ eAw\n"
     ]
    },
    {
     "name": "stdout",
     "output_type": "stream",
     "text": [
      "Loaded checkpoint from epoch 30\n",
      "Val metrics: {'loss': 2.83093111038208, 'time_s': 2.5756952500000807, 'acc': 0.31}\n"
     ]
    },
    {
     "name": "stderr",
     "output_type": "stream",
     "text": [
      "/Users/glbrlb/PycharmProjects/Msc/LMU_S4/.venv/lib/python3.9/site-packages/torchaudio/_backend/utils.py:213: UserWarning: In 2.9, this function's implementation will be changed to use torchaudio.load_with_torchcodec` under the hood. Some parameters like ``normalize``, ``format``, ``buffer_size``, and ``backend`` will be ignored. We recommend that you port your code to rely directly on TorchCodec's decoder instead: https://docs.pytorch.org/torchcodec/stable/generated/torchcodec.decoders.AudioDecoder.html#torchcodec.decoders.AudioDecoder.\n",
      "  warnings.warn(\n",
      "/Users/glbrlb/PycharmProjects/Msc/LMU_S4/.venv/lib/python3.9/site-packages/torchaudio/_backend/utils.py:213: UserWarning: In 2.9, this function's implementation will be changed to use torchaudio.load_with_torchcodec` under the hood. Some parameters like ``normalize``, ``format``, ``buffer_size``, and ``backend`` will be ignored. We recommend that you port your code to rely directly on TorchCodec's decoder instead: https://docs.pytorch.org/torchcodec/stable/generated/torchcodec.decoders.AudioDecoder.html#torchcodec.decoders.AudioDecoder.\n",
      "  warnings.warn(\n",
      "/Users/glbrlb/PycharmProjects/Msc/LMU_S4/.venv/lib/python3.9/site-packages/torchaudio/_backend/utils.py:213: UserWarning: In 2.9, this function's implementation will be changed to use torchaudio.load_with_torchcodec` under the hood. Some parameters like ``normalize``, ``format``, ``buffer_size``, and ``backend`` will be ignored. We recommend that you port your code to rely directly on TorchCodec's decoder instead: https://docs.pytorch.org/torchcodec/stable/generated/torchcodec.decoders.AudioDecoder.html#torchcodec.decoders.AudioDecoder.\n",
      "  warnings.warn(\n",
      "/Users/glbrlb/PycharmProjects/Msc/LMU_S4/.venv/lib/python3.9/site-packages/torchaudio/_backend/utils.py:213: UserWarning: In 2.9, this function's implementation will be changed to use torchaudio.load_with_torchcodec` under the hood. Some parameters like ``normalize``, ``format``, ``buffer_size``, and ``backend`` will be ignored. We recommend that you port your code to rely directly on TorchCodec's decoder instead: https://docs.pytorch.org/torchcodec/stable/generated/torchcodec.decoders.AudioDecoder.html#torchcodec.decoders.AudioDecoder.\n",
      "  warnings.warn(\n"
     ]
    },
    {
     "name": "stdout",
     "output_type": "stream",
     "text": [
      "\n",
      "==================================================\n",
      "Overall accuracy: 0.3100\n"
     ]
    },
    {
     "data": {
      "text/plain": [
       "<Figure size 900x900 with 2 Axes>"
      ],
      "image/png": "[encoded data removed]"
     },
     "metadata": {},
     "output_type": "display_data",
     "jetTransient": {
      "display_id": null
     }
    },
    {
     "name": "stdout",
     "output_type": "stream",
     "text": [
      "\n",
      "==================================================\n",
      "Top per-class accuracies:\n",
      "01. class_30                  : 0.875\n",
      "02. class_11                  : 0.875\n",
      "03. class_10                  : 0.750\n",
      "04. class_37                  : 0.750\n",
      "05. class_18                  : 0.750\n",
      "06. class_8                   : 0.750\n",
      "07. class_1                   : 0.625\n",
      "08. class_19                  : 0.625\n",
      "09. class_12                  : 0.625\n",
      "10. class_49                  : 0.500\n",
      "Bottom per-class accuracies:\n",
      "01. class_36                  : 0.000\n",
      "02. class_2                   : 0.000\n",
      "03. class_23                  : 0.000\n",
      "04. class_6                   : 0.000\n",
      "05. class_16                  : 0.000\n",
      "06. class_41                  : 0.000\n",
      "07. class_40                  : 0.000\n",
      "08. class_20                  : 0.000\n",
      "09. class_21                  : 0.000\n",
      "10. class_5                   : 0.000\n"
     ]
    }
   ],
   "execution_count": 5
  },
  {
   "metadata": {},
   "cell_type": "code",
   "source": "",
   "id": "7ebbdaea0c4ad779",
   "outputs": [],
   "execution_count": null
  }
 ],
 "metadata": {
  "kernelspec": {
   "display_name": "Python 3",
   "language": "python",
   "name": "python3"
  },
  "language_info": {
   "codemirror_mode": {
    "name": "ipython",
    "version": 2
   },
   "file_extension": ".py",
   "mimetype": "text/x-python",
   "name": "python",
   "nbconvert_exporter": "python",
   "pygments_lexer": "ipython2",
   "version": "2.7.6"
  }
 },
 "nbformat": 4,
 "nbformat_minor": 5
}
