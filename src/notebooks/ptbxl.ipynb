{
 "cells": [
  {
   "metadata": {
    "ExecuteTime": {
     "end_time": "2025-10-21T17:17:58.655805Z",
     "start_time": "2025-10-21T17:17:55.480892Z"
    }
   },
   "cell_type": "code",
   "source": [
    "from pathlib import Path\n",
    "from src.datasets.ptbxl.ptbxl_dataloader import make_ptbxl_loaders\n",
    "from src.datasets.ptbxl.ptbxl_dataset import PTBXL_SUPERCLASSES\n",
    "\n",
    "current_dir = Path.cwd()\n",
    "project_root = current_dir.parent.parent  # Go up from src/notebooks/ to project root\n",
    "data_root = str(project_root / \"src\" / \"datasets\" / \"ptbxl\" / \"data\")\n"
   ],
   "id": "41f869c37969c7db",
   "outputs": [],
   "execution_count": 1
  },
  {
   "metadata": {
    "collapsed": true,
    "ExecuteTime": {
     "end_time": "2025-10-21T17:18:09.230164Z",
     "start_time": "2025-10-21T17:18:08.234011Z"
    }
   },
   "cell_type": "code",
   "source": [
    "train_loader, val_loader, test_loader = make_ptbxl_loaders(\n",
    "    data_root=data_root,\n",
    "    batch_size=32,\n",
    "    sampling=\"lr100\",\n",
    "    length=1000,\n",
    ")"
   ],
   "id": "50ec9829ce50175",
   "outputs": [],
   "execution_count": 2
  },
  {
   "metadata": {
    "ExecuteTime": {
     "end_time": "2025-10-21T17:18:29.025951Z",
     "start_time": "2025-10-21T17:18:10.922830Z"
    }
   },
   "cell_type": "code",
   "source": [
    "xb, yb = next(iter(train_loader))\n",
    "print(xb.shape)\n",
    "print(yb.shape)\n",
    "print(PTBXL_SUPERCLASSES)"
   ],
   "id": "7e4eb60eb3455fb9",
   "outputs": [
    {
     "name": "stderr",
     "output_type": "stream",
     "text": [
      "/Users/glbrlb/PycharmProjects/Msc/LMU_S4/.venv/lib/python3.9/site-packages/torch/utils/data/dataloader.py:684: UserWarning: 'pin_memory' argument is set as true but not supported on MPS now, then device pinned memory won't be used.\n",
      "  warnings.warn(warn_msg)\n"
     ]
    },
    {
     "name": "stdout",
     "output_type": "stream",
     "text": [
      "torch.Size([32, 1000, 12])\n",
      "torch.Size([32, 5])\n",
      "['NORM', 'MI', 'STTC', 'HYP', 'CD']\n"
     ]
    }
   ],
   "execution_count": 3
  }
 ],
 "metadata": {
  "kernelspec": {
   "display_name": "Python 3",
   "language": "python",
   "name": "python3"
  },
  "language_info": {
   "codemirror_mode": {
    "name": "ipython",
    "version": 2
   },
   "file_extension": ".py",
   "mimetype": "text/x-python",
   "name": "python",
   "nbconvert_exporter": "python",
   "pygments_lexer": "ipython2",
   "version": "2.7.6"
  }
 },
 "nbformat": 4,
 "nbformat_minor": 5
}
