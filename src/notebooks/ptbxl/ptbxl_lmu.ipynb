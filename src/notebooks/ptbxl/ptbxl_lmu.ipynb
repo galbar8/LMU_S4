{
 "cells": [
  {
   "metadata": {
    "ExecuteTime": {
     "end_time": "2025-10-24T18:33:36.699331Z",
     "start_time": "2025-10-24T18:33:35.954080Z"
    }
   },
   "cell_type": "code",
   "source": [
    "from __future__ import annotations\n",
    "from typing import Tuple, Dict, Any\n",
    "\n",
    "from torch.utils.data import DataLoader\n",
    "\n",
    "from src.types.task_protocol import TaskProtocol\n",
    "from src.datasets.ptbxl.ptbxl_dataloader import make_ptbxl_loaders\n",
    "\n",
    "class PTBXLTask(TaskProtocol):\n",
    "    \"\"\"\n",
    "    PTB-XL ECG classification task.\n",
    "    - Multi-label classification (5 superclasses: NORM, MI, STTC, HYP, CD)\n",
    "    - Input: 12-lead ECG signals\n",
    "    - Sampling rate: 100Hz (lr100) or 500Hz (hr500)\n",
    "    \"\"\"\n",
    "    problem_type: str = \"multilabel\"\n",
    "\n",
    "    def make_loaders(\n",
    "        self,\n",
    "        data_root: str,\n",
    "        batch_size: int = 64,\n",
    "        num_workers: int = 4,\n",
    "        **kwargs\n",
    "    ) -> Tuple[DataLoader, DataLoader, DataLoader]:\n",
    "        \"\"\"\n",
    "        Returns: (train_loader, val_loader, test_loader)\n",
    "        with x: (B, T, D), y: (B, 5) for multi-label classification\n",
    "        \"\"\"\n",
    "        sampling = kwargs.get(\"sampling\", \"lr100\")\n",
    "        length = kwargs.get(\"length\", 1000)\n",
    "        leads = kwargs.get(\"leads\", None)\n",
    "        folds_train = kwargs.get(\"folds_train\", (1, 2, 3, 4, 5, 6, 7, 8))\n",
    "        fold_val = kwargs.get(\"fold_val\", 9)\n",
    "        fold_test = kwargs.get(\"fold_test\", 10)\n",
    "\n",
    "        return make_ptbxl_loaders(\n",
    "            data_root=data_root,\n",
    "            batch_size=batch_size,\n",
    "            num_workers=num_workers,\n",
    "            sampling=sampling,\n",
    "            length=length,\n",
    "            leads=leads,\n",
    "            folds_train=folds_train,\n",
    "            fold_val=fold_val,\n",
    "            fold_test=fold_test,\n",
    "        )\n",
    "\n",
    "    def infer_input_dim(self, args: Dict[str, Any]) -> int:\n",
    "        \"\"\"Number of leads (channels)\"\"\"\n",
    "        leads = args.get(\"leads\", None)\n",
    "        return len(leads) if leads is not None else 12\n",
    "\n",
    "    def infer_num_classes(self, args: Dict[str, Any]) -> int:\n",
    "        \"\"\"Number of superclasses for multi-label classification\"\"\"\n",
    "        return 5  # NORM, MI, STTC, HYP, CD\n",
    "\n",
    "    def infer_theta(self, args: Dict[str, Any]) -> int:\n",
    "        \"\"\"Sequence length (number of time steps)\"\"\"\n",
    "        return args.get(\"length\", 1000)\n",
    "\n",
    "\n",
    "def create_block_cfg_ctor(dropout: float, mlp_ratio: float, droppath_final: float,\n",
    "                          layerscale_init: float, residual_gain: float, pool: str):\n",
    "    \"\"\"Create a block config constructor with the given hyperparameters.\"\"\"\n",
    "    def block_cfg_ctor(theta: int) -> BlockConfig:\n",
    "        return BlockConfig(\n",
    "            kind=\"lmu\",\n",
    "            memory_size=256,\n",
    "            theta=theta,\n",
    "            dropout=dropout,\n",
    "            mlp_ratio=mlp_ratio,\n",
    "            droppath_final=droppath_final,\n",
    "            layerscale_init=layerscale_init,\n",
    "            residual_gain=residual_gain,\n",
    "            pool=pool,\n",
    "        )\n",
    "    return block_cfg_ctor\n"
   ],
   "id": "ba353478d83c62e0",
   "outputs": [],
   "execution_count": 1
  },
  {
   "metadata": {
    "ExecuteTime": {
     "end_time": "2025-10-24T18:33:58.223801Z",
     "start_time": "2025-10-24T18:33:58.199153Z"
    }
   },
   "cell_type": "code",
   "source": [
    "import torch\n",
    "from pathlib import Path\n",
    "\n",
    "current_dir = Path.cwd()\n",
    "project_root = current_dir.parent.parent.parent # Go up from src/notebooks/ to project root\n",
    "data_root = str(project_root / \"src\" / \"datasets\" / \"ptbxl\" / \"data\")\n",
    "\n",
    "args: Dict[str, Any] = {\n",
    "        # data\n",
    "        \"data_root\": str(data_root),\n",
    "        \"batch\": 32,  # ⬇️ Reduced for MPS memory constraints\n",
    "        \"data_loader_kwargs\": {\n",
    "            \"num_workers\": 0,  # ⚠️ CRITICAL for Mac - avoids 3x slowdown!\n",
    "            \"sampling\": \"lr100\",  # 100Hz sampling rate\n",
    "            \"length\": 1000,       # 10 seconds at 100Hz\n",
    "            \"leads\": None,        # Use all 12 leads\n",
    "            \"folds_train\": (1, 2, 3, 4, 5, 6, 7, 8),\n",
    "            \"fold_val\": 9,\n",
    "            \"fold_test\": 10,\n",
    "            \"pin_memory\": False,  # Not needed for MPS\n",
    "            \"persistent_workers\": False,\n",
    "        },\n",
    "\n",
    "        # training\n",
    "        \"epochs\": 100,\n",
    "        \"lr\": 1e-3,\n",
    "        \"wd\": 1e-4,\n",
    "        \"amp\": True,  # M4 MPS works well with AMP\n",
    "        \"save_dir\": \"./runs/ptbxl_task\",\n",
    "        \"warmup_epochs\": 5,\n",
    "        \"patience\": 10,\n",
    "        \"min_delta\": 0.001,\n",
    "        \"threshold\": 0.5,      # For multi-label classification\n",
    "        \"early_key\": \"f1_micro\",  # Use F1-micro for early stopping\n",
    "\n",
    "        # model scaffold\n",
    "        \"d_model\": 256,\n",
    "        \"depth\": 6,\n",
    "        \"dropout\": 0.3, #0.2,\n",
    "        \"mlp_ratio\": 2.0,\n",
    "        \"droppath_final\": 0.2, #0.1,\n",
    "        \"layerscale_init\": 1e-2,\n",
    "        \"residual_gain\": 1.0,\n",
    "        \"pool\": \"mean\",\n",
    "    }\n",
    "\n",
    "args[\"block_cfg_ctor\"] = create_block_cfg_ctor(\n",
    "    dropout=args[\"dropout\"],\n",
    "    mlp_ratio=args[\"mlp_ratio\"],\n",
    "    droppath_final=args[\"droppath_final\"],\n",
    "    layerscale_init=args[\"layerscale_init\"],\n",
    "    residual_gain=args[\"residual_gain\"],\n",
    "    pool=args[\"pool\"],\n",
    ")\n",
    "\n",
    "# M4-optimized device selection\n",
    "if torch.backends.mps.is_available():\n",
    "    args[\"device\"] = torch.device(\"mps\")\n",
    "    print(\"🚀 Using MPS (M4 Neural Engine)\")\n",
    "elif torch.cuda.is_available():\n",
    "    args[\"device\"] = torch.device(\"cuda\")\n",
    "else:\n",
    "    args[\"device\"] = torch.device(\"cpu\")\n",
    "    args[\"amp\"] = False"
   ],
   "id": "aebecbd1a12c81e",
   "outputs": [
    {
     "name": "stdout",
     "output_type": "stream",
     "text": [
      "🚀 Using MPS (M4 Neural Engine)\n"
     ]
    }
   ],
   "execution_count": 2
  },
  {
   "metadata": {
    "ExecuteTime": {
     "end_time": "2025-10-24T18:34:44.739079Z",
     "start_time": "2025-10-24T18:34:44.735520Z"
    }
   },
   "cell_type": "code",
   "source": [
    "from typing import Dict, Any\n",
    "\n",
    "import torch\n",
    "import os\n",
    "\n",
    "from src.train_utils.trainer import Trainer\n",
    "from src.models.v2.build_model import BlockConfig, build_model\n",
    "\n",
    "def main() -> None:\n",
    "    task = PTBXLTask()\n",
    "\n",
    "    # M4-optimized MPS settings\n",
    "    if torch.backends.mps.is_available():\n",
    "        torch.mps.set_per_process_memory_fraction(0.9)\n",
    "        os.environ[\"PYTORCH_MPS_HIGH_WATERMARK_RATIO\"] = \"0.0\"\n",
    "\n",
    "    trainer = Trainer(args=args, task=task, model_builder=build_model)\n",
    "\n",
    "    best_metric, ckpt_path = trainer.fit()\n",
    "    print(f\"Done. Best {trainer.early_key}={best_metric:.4f} @ {ckpt_path}\")\n",
    "    return trainer\n"
   ],
   "id": "6fcad91dd9da3a00",
   "outputs": [],
   "execution_count": 5
  },
  {
   "metadata": {
    "ExecuteTime": {
     "end_time": "2025-10-25T13:17:09.339945Z",
     "start_time": "2025-10-24T18:34:47.579570Z"
    }
   },
   "cell_type": "code",
   "source": "main()",
   "id": "fff712b50c80f53b",
   "outputs": [
    {
     "name": "stderr",
     "output_type": "stream",
     "text": [
      "/Users/glbrlb/PycharmProjects/Msc/LMU_S4/.venv/lib/python3.9/site-packages/scipy/linalg/_matfuncs.py:326: RuntimeWarning: divide by zero encountered in matmul\n",
      "  m, s = pick_pade_structure(Am)\n",
      "/Users/glbrlb/PycharmProjects/Msc/LMU_S4/.venv/lib/python3.9/site-packages/scipy/linalg/_matfuncs.py:326: RuntimeWarning: overflow encountered in matmul\n",
      "  m, s = pick_pade_structure(Am)\n",
      "/Users/glbrlb/PycharmProjects/Msc/LMU_S4/.venv/lib/python3.9/site-packages/scipy/linalg/_matfuncs.py:326: RuntimeWarning: invalid value encountered in matmul\n",
      "  m, s = pick_pade_structure(Am)\n",
      "/Users/glbrlb/PycharmProjects/Msc/LMU_S4/.venv/lib/python3.9/site-packages/scipy/linalg/_matfuncs.py:358: RuntimeWarning: divide by zero encountered in matmul\n",
      "  eAw = eAw @ eAw\n",
      "/Users/glbrlb/PycharmProjects/Msc/LMU_S4/.venv/lib/python3.9/site-packages/scipy/linalg/_matfuncs.py:358: RuntimeWarning: overflow encountered in matmul\n",
      "  eAw = eAw @ eAw\n",
      "/Users/glbrlb/PycharmProjects/Msc/LMU_S4/.venv/lib/python3.9/site-packages/scipy/linalg/_matfuncs.py:358: RuntimeWarning: invalid value encountered in matmul\n",
      "  eAw = eAw @ eAw\n",
      "train:   0%|          | 0/545 [00:00<?, ?it/s]/Users/glbrlb/PycharmProjects/Msc/LMU_S4/.venv/lib/python3.9/site-packages/torch/utils/data/dataloader.py:684: UserWarning: 'pin_memory' argument is set as true but not supported on MPS now, then device pinned memory won't be used.\n",
      "  warnings.warn(warn_msg)\n",
      "                                                        \r"
     ]
    },
    {
     "name": "stdout",
     "output_type": "stream",
     "text": [
      "new best f1_micro 0.2520\n",
      "Epoch 000/100 | train 0.7351/0.2693 | val 0.7185/0.2520 | t 546.6s/24.3s | lr 1.00e-06\n"
     ]
    },
    {
     "name": "stderr",
     "output_type": "stream",
     "text": [
      "                                                               \r"
     ]
    },
    {
     "name": "stdout",
     "output_type": "stream",
     "text": [
      "new best f1_micro 0.5519\n",
      "Epoch 001/100 | train 0.4384/0.4805 | val 0.4125/0.5519 | t 788.2s/22.1s | lr 2.01e-04\n"
     ]
    },
    {
     "name": "stderr",
     "output_type": "stream",
     "text": [
      "                                                        \r"
     ]
    },
    {
     "name": "stdout",
     "output_type": "stream",
     "text": [
      "new best f1_micro 0.6310\n",
      "Epoch 002/100 | train 0.3892/0.6055 | val 0.3821/0.6310 | t 536.7s/24.3s | lr 4.01e-04\n"
     ]
    },
    {
     "name": "stderr",
     "output_type": "stream",
     "text": [
      "                                                        \r"
     ]
    },
    {
     "name": "stdout",
     "output_type": "stream",
     "text": [
      "new best f1_micro 0.6483\n",
      "Epoch 003/100 | train 0.3616/0.6531 | val 0.3807/0.6483 | t 587.6s/25.9s | lr 6.00e-04\n"
     ]
    },
    {
     "name": "stderr",
     "output_type": "stream",
     "text": [
      "/Users/glbrlb/PycharmProjects/Msc/LMU_S4/.venv/lib/python3.9/site-packages/torch/optim/lr_scheduler.py:209: UserWarning: The epoch parameter in `scheduler.step()` was not necessary and is being deprecated where possible. Please use `scheduler.step()` to step the scheduler. During the deprecation, if epoch is different from None, the closed form is used instead of the new chainable form, where available. Please open an issue if you are unable to replicate your use case: https://github.com/pytorch/pytorch/issues/new/choose.\n",
      "  warnings.warn(EPOCH_DEPRECATION_WARNING, UserWarning)\n"
     ]
    },
    {
     "name": "stdout",
     "output_type": "stream",
     "text": [
      "Epoch 004/100 | train 0.3436/0.6782 | val 0.3562/0.6452 | t 591.5s/22.0s | lr 8.00e-04\n"
     ]
    },
    {
     "name": "stderr",
     "output_type": "stream",
     "text": [
      "                                                        \r"
     ]
    },
    {
     "name": "stdout",
     "output_type": "stream",
     "text": [
      "new best f1_micro 0.6779\n",
      "Epoch 005/100 | train 0.3268/0.7002 | val 0.3699/0.6779 | t 548.3s/26.1s | lr 1.00e-03\n"
     ]
    },
    {
     "name": "stderr",
     "output_type": "stream",
     "text": [
      "                                                              \r"
     ]
    },
    {
     "name": "stdout",
     "output_type": "stream",
     "text": [
      "new best f1_micro 0.7097\n",
      "Epoch 006/100 | train 0.3093/0.7225 | val 0.3545/0.7097 | t 606.2s/22.2s | lr 1.00e-03\n"
     ]
    },
    {
     "name": "stderr",
     "output_type": "stream",
     "text": [
      "                                                        \r"
     ]
    },
    {
     "name": "stdout",
     "output_type": "stream",
     "text": [
      "Epoch 007/100 | train 0.2921/0.7397 | val 0.3709/0.6925 | t 570.6s/24.9s | lr 9.99e-04\n"
     ]
    },
    {
     "name": "stderr",
     "output_type": "stream",
     "text": [
      "                                                        \r"
     ]
    },
    {
     "name": "stdout",
     "output_type": "stream",
     "text": [
      "Epoch 008/100 | train 0.2742/0.7610 | val 0.3741/0.6937 | t 640.4s/26.9s | lr 9.98e-04\n"
     ]
    },
    {
     "name": "stderr",
     "output_type": "stream",
     "text": [
      "                                                        \r"
     ]
    },
    {
     "name": "stdout",
     "output_type": "stream",
     "text": [
      "new best f1_micro 0.7145\n",
      "Epoch 009/100 | train 0.2573/0.7787 | val 0.3633/0.7145 | t 622.0s/27.7s | lr 9.96e-04\n"
     ]
    },
    {
     "name": "stderr",
     "output_type": "stream",
     "text": [
      "                                                        "
     ]
    },
    {
     "name": "stdout",
     "output_type": "stream",
     "text": [
      "⏹ Early stopping (patience=10, best=0.7145).\n",
      "📊 Training history saved to ./runs/ptbxl_task/history.json\n",
      "Done. Best f1_micro=0.7145 @ ./runs/ptbxl_task/best.pt\n"
     ]
    },
    {
     "name": "stderr",
     "output_type": "stream",
     "text": [
      "\r"
     ]
    },
    {
     "data": {
      "text/plain": [
       "<src.train_utils.trainer.Trainer at 0x17c15d880>"
      ]
     },
     "execution_count": 6,
     "metadata": {},
     "output_type": "execute_result"
    }
   ],
   "execution_count": 6
  },
  {
   "metadata": {
    "ExecuteTime": {
     "end_time": "2025-10-25T13:17:19.637971Z",
     "start_time": "2025-10-25T13:17:19.632355Z"
    }
   },
   "cell_type": "code",
   "source": [
    "def load_trainer_from_checkpoint(checkpoint_path: str, args: Dict[str, Any], task: TaskProtocol) -> Trainer:\n",
    "    \"\"\"Load trainer from checkpoint with minimal code duplication.\"\"\"\n",
    "    # Load checkpoint\n",
    "    checkpoint = torch.load(checkpoint_path, map_location=args[\"device\"])\n",
    "\n",
    "    # Create new trainer instance with same args\n",
    "    trainer = Trainer(args=args, task=task, model_builder=build_model)\n",
    "\n",
    "    # Restore state\n",
    "    trainer.model.load_state_dict(checkpoint[\"model\"])\n",
    "    if \"optimizer\" in checkpoint:\n",
    "        trainer.opt.load_state_dict(checkpoint[\"optimizer\"])\n",
    "    if \"scheduler\" in checkpoint:\n",
    "        trainer.scheduler.load_state_dict(checkpoint[\"scheduler\"])\n",
    "    if \"history\" in checkpoint:\n",
    "        trainer.history = checkpoint[\"history\"]\n",
    "\n",
    "    print(f\"✅ Loaded checkpoint from epoch {checkpoint.get('epoch', 'unknown')}\")\n",
    "    print(f\"📊 Val metrics: {checkpoint.get('val', {})}\")\n",
    "\n",
    "    return trainer\n"
   ],
   "id": "bc78ebc10f746b25",
   "outputs": [],
   "execution_count": 7
  },
  {
   "metadata": {
    "ExecuteTime": {
     "end_time": "2025-10-25T13:26:05.612853Z",
     "start_time": "2025-10-25T13:26:03.614307Z"
    }
   },
   "cell_type": "code",
   "source": [
    "import matplotlib.pyplot as plt\n",
    "\n",
    "trainer = load_trainer_from_checkpoint(\n",
    "    checkpoint_path=\"./runs/ptbxl_task/best.pt\",\n",
    "    args=args,\n",
    "    task=PTBXLTask()\n",
    ")\n",
    "\n",
    "history = trainer.history\n",
    "\n",
    "# Loss plot\n",
    "plt.figure(figsize=(12, 8))\n",
    "plt.plot(history[\"train_loss\"], label=\"train_loss\", linewidth=2)\n",
    "plt.plot(history[\"val_loss\"], label=\"val_loss\", linewidth=2)\n",
    "plt.xlabel(\"Epoch\", fontsize=12)\n",
    "plt.ylabel(\"Loss\", fontsize=12)\n",
    "plt.legend(fontsize=11)\n",
    "plt.title(\"Training and Validation Loss\", fontsize=14)\n",
    "plt.grid(True, alpha=0.3)\n",
    "plt.tight_layout()\n",
    "plt.show()\n",
    "\n",
    "# F1-Micro plot\n",
    "plt.figure(figsize=(12, 8))\n",
    "plt.plot(history[\"train_f1_micro\"], label=\"train_f1_micro\", linewidth=2)\n",
    "plt.plot(history[\"val_f1_micro\"], label=\"val_f1_micro\", linewidth=2)\n",
    "plt.xlabel(\"Epoch\", fontsize=12)\n",
    "plt.ylabel(\"F1-Micro\", fontsize=12)\n",
    "plt.legend(fontsize=11)\n",
    "plt.title(\"Training and Validation F1-Micro Score\", fontsize=14)\n",
    "plt.grid(True, alpha=0.3)\n",
    "plt.tight_layout()\n",
    "plt.show()"
   ],
   "id": "b1d39e247020757f",
   "outputs": [
    {
     "name": "stderr",
     "output_type": "stream",
     "text": [
      "/Users/glbrlb/PycharmProjects/Msc/LMU_S4/.venv/lib/python3.9/site-packages/scipy/linalg/_matfuncs.py:326: RuntimeWarning: divide by zero encountered in matmul\n",
      "  m, s = pick_pade_structure(Am)\n",
      "/Users/glbrlb/PycharmProjects/Msc/LMU_S4/.venv/lib/python3.9/site-packages/scipy/linalg/_matfuncs.py:326: RuntimeWarning: overflow encountered in matmul\n",
      "  m, s = pick_pade_structure(Am)\n",
      "/Users/glbrlb/PycharmProjects/Msc/LMU_S4/.venv/lib/python3.9/site-packages/scipy/linalg/_matfuncs.py:326: RuntimeWarning: invalid value encountered in matmul\n",
      "  m, s = pick_pade_structure(Am)\n",
      "/Users/glbrlb/PycharmProjects/Msc/LMU_S4/.venv/lib/python3.9/site-packages/scipy/linalg/_matfuncs.py:358: RuntimeWarning: divide by zero encountered in matmul\n",
      "  eAw = eAw @ eAw\n",
      "/Users/glbrlb/PycharmProjects/Msc/LMU_S4/.venv/lib/python3.9/site-packages/scipy/linalg/_matfuncs.py:358: RuntimeWarning: overflow encountered in matmul\n",
      "  eAw = eAw @ eAw\n",
      "/Users/glbrlb/PycharmProjects/Msc/LMU_S4/.venv/lib/python3.9/site-packages/scipy/linalg/_matfuncs.py:358: RuntimeWarning: invalid value encountered in matmul\n",
      "  eAw = eAw @ eAw\n"
     ]
    },
    {
     "name": "stdout",
     "output_type": "stream",
     "text": [
      "✅ Loaded checkpoint from epoch 9\n",
      "📊 Val metrics: {'loss': 0.36332853276382776, 'time_s': 27.733132791999196, 'f1_micro': 0.7144750319309069}\n"
     ]
    },
    {
     "data": {
      "text/plain": [
       "<Figure size 1200x800 with 1 Axes>"
      ],
      "image/png": "[encoded data removed]"
     },
     "metadata": {},
     "output_type": "display_data",
     "jetTransient": {
      "display_id": null
     }
    },
    {
     "data": {
      "text/plain": [
       "<Figure size 1200x800 with 1 Axes>"
      ],
      "image/png": "[encoded data removed]"
     },
     "metadata": {},
     "output_type": "display_data",
     "jetTransient": {
      "display_id": null
     }
    }
   ],
   "execution_count": 18
  },
  {
   "metadata": {
    "ExecuteTime": {
     "end_time": "2025-10-25T13:22:01.519975Z",
     "start_time": "2025-10-25T13:21:14.619051Z"
    }
   },
   "cell_type": "code",
   "source": [
    "# Evaluation and Visualization\n",
    "import os\n",
    "import torch\n",
    "import matplotlib.pyplot as plt\n",
    "from src.eval.infer import predict_loader\n",
    "from src.utils.common import amp_autocast\n",
    "\n",
    "def evaluate_best_model():\n",
    "    \"\"\"Load best checkpoint and evaluate on validation set.\"\"\"\n",
    "    task = PTBXLTask()\n",
    "\n",
    "    # Recreate data loaders\n",
    "    _, val_loader, test_loader = task.make_loaders(\n",
    "        data_root=data_root,\n",
    "        batch_size=32,  # Match training batch size\n",
    "        num_workers=0,  # Same as training for consistency\n",
    "        sampling=\"lr100\",\n",
    "        length=1000,\n",
    "        leads=None,\n",
    "        folds_train=(1, 2, 3, 4, 5, 6, 7, 8),\n",
    "        fold_val=9,\n",
    "        fold_test=10,\n",
    "    )\n",
    "\n",
    "    # Load best checkpoint\n",
    "    best_ckpt_path = \"./runs/ptbxl_task/best.pt\"\n",
    "    if not os.path.exists(best_ckpt_path):\n",
    "        print(f\"Checkpoint not found at {best_ckpt_path}\")\n",
    "        return\n",
    "\n",
    "    best_ckpt = torch.load(best_ckpt_path, map_location=\"cpu\")\n",
    "\n",
    "    # Recreate model\n",
    "    from src.models.v2.build_model import BlockConfig, build_model\n",
    "\n",
    "    d_in = 12  # 12 leads\n",
    "    n_classes = 5  # 5 superclasses\n",
    "    theta = 1000  # sequence length\n",
    "\n",
    "    block_cfg = BlockConfig(\n",
    "        kind=\"lmu\",\n",
    "        memory_size=256,\n",
    "        theta=theta,\n",
    "        dropout=0.2,\n",
    "        mlp_ratio=2.0,\n",
    "        droppath_final=0.1,\n",
    "        layerscale_init=1e-2,\n",
    "        residual_gain=1.0,\n",
    "        pool=\"mean\",\n",
    "    )\n",
    "\n",
    "    model = build_model(\n",
    "        d_in=d_in,\n",
    "        n_classes=n_classes,\n",
    "        d_model=256,\n",
    "        depth=6,\n",
    "        block_cfg=block_cfg,\n",
    "    )\n",
    "\n",
    "    # Load weights\n",
    "    model.load_state_dict(best_ckpt[\"model\"])\n",
    "\n",
    "    # Set device\n",
    "    if torch.cuda.is_available():\n",
    "        device = torch.device(\"cuda\")\n",
    "    elif torch.backends.mps.is_available():\n",
    "        device = torch.device(\"mps\")\n",
    "    else:\n",
    "        device = torch.device(\"cpu\")\n",
    "\n",
    "    model.to(device)\n",
    "    amp = device.type in {\"cuda\", \"mps\"}\n",
    "\n",
    "    print(f\"Loaded checkpoint from epoch {best_ckpt['epoch']}\")\n",
    "    print(f\"Val metrics: {best_ckpt['val']}\")\n",
    "\n",
    "    # Get predictions on validation set\n",
    "    logits_val, labels_val = predict_loader(model, val_loader, device, amp_autocast, amp)\n",
    "\n",
    "    # Get predictions on test set\n",
    "    logits_test, labels_test = predict_loader(model, test_loader, device, amp_autocast, amp)\n",
    "\n",
    "    # For multi-label, compute metrics manually\n",
    "    from src.utils.metrics import multilabel_metrics_fn\n",
    "\n",
    "    threshold = 0.5\n",
    "    metrics_fn = multilabel_metrics_fn(threshold=threshold)\n",
    "\n",
    "    print(\"\\n\" + \"=\"*50)\n",
    "    print(\"VALIDATION SET RESULTS:\")\n",
    "    print(\"=\"*50)\n",
    "    val_metrics = metrics_fn(logits_val, labels_val)\n",
    "    for k, v in val_metrics.items():\n",
    "        print(f\"{k}: {v:.4f}\")\n",
    "\n",
    "    print(\"\\n\" + \"=\"*50)\n",
    "    print(\"TEST SET RESULTS:\")\n",
    "    print(\"=\"*50)\n",
    "    test_metrics = metrics_fn(logits_test, labels_test)\n",
    "    for k, v in test_metrics.items():\n",
    "        print(f\"{k}: {v:.4f}\")\n",
    "\n",
    "    # Per-class analysis\n",
    "    preds_val = (torch.sigmoid(logits_val) > threshold).float()\n",
    "    preds_test = (torch.sigmoid(logits_test) > threshold).float()\n",
    "\n",
    "    class_names = [\"NORM\", \"MI\", \"STTC\", \"HYP\", \"CD\"]\n",
    "\n",
    "    print(\"\\n\" + \"=\"*50)\n",
    "    print(\"PER-CLASS F1 SCORES (Validation):\")\n",
    "    print(\"=\"*50)\n",
    "    for i, name in enumerate(class_names):\n",
    "        tp = ((preds_val[:, i] == 1) & (labels_val[:, i] == 1)).sum().item()\n",
    "        fp = ((preds_val[:, i] == 1) & (labels_val[:, i] == 0)).sum().item()\n",
    "        fn = ((preds_val[:, i] == 0) & (labels_val[:, i] == 1)).sum().item()\n",
    "\n",
    "        precision = tp / (tp + fp) if (tp + fp) > 0 else 0.0\n",
    "        recall = tp / (tp + fn) if (tp + fn) > 0 else 0.0\n",
    "        f1 = 2 * precision * recall / (precision + recall) if (precision + recall) > 0 else 0.0\n",
    "\n",
    "        support = labels_val[:, i].sum().item()\n",
    "        print(f\"{name:8s}: F1={f1:.4f} (P={precision:.4f}, R={recall:.4f}, support={int(support)})\")\n",
    "\n",
    "    print(\"\\n\" + \"=\"*50)\n",
    "    print(\"PER-CLASS F1 SCORES (Test):\")\n",
    "    print(\"=\"*50)\n",
    "    for i, name in enumerate(class_names):\n",
    "        tp = ((preds_test[:, i] == 1) & (labels_test[:, i] == 1)).sum().item()\n",
    "        fp = ((preds_test[:, i] == 1) & (labels_test[:, i] == 0)).sum().item()\n",
    "        fn = ((preds_test[:, i] == 0) & (labels_test[:, i] == 1)).sum().item()\n",
    "\n",
    "        precision = tp / (tp + fp) if (tp + fp) > 0 else 0.0\n",
    "        recall = tp / (tp + fn) if (tp + fn) > 0 else 0.0\n",
    "        f1 = 2 * precision * recall / (precision + recall) if (precision + recall) > 0 else 0.0\n",
    "\n",
    "        support = labels_test[:, i].sum().item()\n",
    "        print(f\"{name:8s}: F1={f1:.4f} (P={precision:.4f}, R={recall:.4f}, support={int(support)})\")\n",
    "\n",
    "evaluate_best_model()"
   ],
   "id": "a36e9d475fd105af",
   "outputs": [
    {
     "name": "stderr",
     "output_type": "stream",
     "text": [
      "/Users/glbrlb/PycharmProjects/Msc/LMU_S4/.venv/lib/python3.9/site-packages/scipy/linalg/_matfuncs.py:326: RuntimeWarning: divide by zero encountered in matmul\n",
      "  m, s = pick_pade_structure(Am)\n",
      "/Users/glbrlb/PycharmProjects/Msc/LMU_S4/.venv/lib/python3.9/site-packages/scipy/linalg/_matfuncs.py:326: RuntimeWarning: overflow encountered in matmul\n",
      "  m, s = pick_pade_structure(Am)\n",
      "/Users/glbrlb/PycharmProjects/Msc/LMU_S4/.venv/lib/python3.9/site-packages/scipy/linalg/_matfuncs.py:326: RuntimeWarning: invalid value encountered in matmul\n",
      "  m, s = pick_pade_structure(Am)\n",
      "/Users/glbrlb/PycharmProjects/Msc/LMU_S4/.venv/lib/python3.9/site-packages/scipy/linalg/_matfuncs.py:358: RuntimeWarning: divide by zero encountered in matmul\n",
      "  eAw = eAw @ eAw\n",
      "/Users/glbrlb/PycharmProjects/Msc/LMU_S4/.venv/lib/python3.9/site-packages/scipy/linalg/_matfuncs.py:358: RuntimeWarning: overflow encountered in matmul\n",
      "  eAw = eAw @ eAw\n",
      "/Users/glbrlb/PycharmProjects/Msc/LMU_S4/.venv/lib/python3.9/site-packages/scipy/linalg/_matfuncs.py:358: RuntimeWarning: invalid value encountered in matmul\n",
      "  eAw = eAw @ eAw\n"
     ]
    },
    {
     "name": "stdout",
     "output_type": "stream",
     "text": [
      "Loaded checkpoint from epoch 9\n",
      "Val metrics: {'loss': 0.36332853276382776, 'time_s': 27.733132791999196, 'f1_micro': 0.7144750319309069}\n"
     ]
    },
    {
     "name": "stderr",
     "output_type": "stream",
     "text": [
      "/Users/glbrlb/PycharmProjects/Msc/LMU_S4/.venv/lib/python3.9/site-packages/torch/utils/data/dataloader.py:684: UserWarning: 'pin_memory' argument is set as true but not supported on MPS now, then device pinned memory won't be used.\n",
      "  warnings.warn(warn_msg)\n"
     ]
    },
    {
     "name": "stdout",
     "output_type": "stream",
     "text": [
      "\n",
      "==================================================\n",
      "VALIDATION SET RESULTS:\n",
      "==================================================\n",
      "f1_micro: 0.7159\n",
      "\n",
      "==================================================\n",
      "TEST SET RESULTS:\n",
      "==================================================\n",
      "f1_micro: 0.7103\n",
      "\n",
      "==================================================\n",
      "PER-CLASS F1 SCORES (Validation):\n",
      "==================================================\n",
      "NORM    : F1=0.8287 (P=0.7916, R=0.8694, support=957)\n",
      "MI      : F1=0.6955 (P=0.6820, R=0.7096, support=544)\n",
      "STTC    : F1=0.6858 (P=0.7284, R=0.6479, support=534)\n",
      "HYP     : F1=0.2682 (P=0.5517, R=0.1771, support=271)\n",
      "CD      : F1=0.7007 (P=0.8274, R=0.6076, support=497)\n",
      "\n",
      "==================================================\n",
      "PER-CLASS F1 SCORES (Test):\n",
      "==================================================\n",
      "NORM    : F1=0.8313 (P=0.7947, R=0.8714, support=964)\n",
      "MI      : F1=0.6786 (P=0.6738, R=0.6835, support=553)\n",
      "STTC    : F1=0.6975 (P=0.7352, R=0.6635, support=523)\n",
      "HYP     : F1=0.3424 (P=0.6000, R=0.2395, support=263)\n",
      "CD      : F1=0.6397 (P=0.7527, R=0.5562, support=498)\n"
     ]
    }
   ],
   "execution_count": 16
  }
 ],
 "metadata": {
  "kernelspec": {
   "display_name": "Python 3",
   "language": "python",
   "name": "python3"
  },
  "language_info": {
   "codemirror_mode": {
    "name": "ipython",
    "version": 2
   },
   "file_extension": ".py",
   "mimetype": "text/x-python",
   "name": "python",
   "nbconvert_exporter": "python",
   "pygments_lexer": "ipython2",
   "version": "2.7.6"
  }
 },
 "nbformat": 4,
 "nbformat_minor": 5
}
